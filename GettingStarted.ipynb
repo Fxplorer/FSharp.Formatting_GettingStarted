{
 "cells": [
  {
   "cell_type": "code",
   "execution_count": 1,
   "metadata": {
    "dotnet_interactive": {
     "language": "pwsh"
    },
    "polyglot_notebook": {
     "kernelName": "pwsh"
    }
   },
   "outputs": [
    {
     "name": "stdout",
     "output_type": "stream",
     "text": [
      "The template \"Dotnet local tool manifest file\" was created successfully.\n",
      "\n"
     ]
    }
   ],
   "source": [
    "dotnet new tool-manifest"
   ]
  },
  {
   "cell_type": "code",
   "execution_count": 2,
   "metadata": {
    "dotnet_interactive": {
     "language": "pwsh"
    },
    "polyglot_notebook": {
     "kernelName": "pwsh"
    }
   },
   "outputs": [
    {
     "name": "stdout",
     "output_type": "stream",
     "text": [
      "You can invoke the tool from this directory using the following commands: 'dotnet tool run fsdocs' or 'dotnet fsdocs'.\n",
      "Tool 'fsdocs-tool' (version '20.0.0') was successfully installed. Entry is added to the manifest file /home/linux/Documents/GitHub/FSharp.Formatting_GettingStarted/.config/dotnet-tools.json.\n"
     ]
    }
   ],
   "source": [
    "dotnet tool install --local fsdocs-tool"
   ]
  },
  {
   "cell_type": "code",
   "execution_count": 3,
   "metadata": {
    "dotnet_interactive": {
     "language": "pwsh"
    },
    "polyglot_notebook": {
     "kernelName": "pwsh"
    }
   },
   "outputs": [
    {
     "name": "stdout",
     "output_type": "stream",
     "text": [
      "\u001b[31;1mfsdocs 20.0.0+d9877cc06ddd03b4549c8be058ca255aaa3ab9f2\u001b[0m\n",
      "\u001b[31;1mCopyright 2014\u001b[0m\n",
      "\u001b[31;1m\u001b[0m\n",
      "\u001b[31;1m  build      build the documentation for a solution based on content and\u001b[0m\n",
      "\u001b[31;1m             defaults\u001b[0m\n",
      "\u001b[31;1m\u001b[0m\n",
      "\u001b[31;1m  watch      build the documentation for a solution based on content and\u001b[0m\n",
      "\u001b[31;1m             defaults, watch it and serve it\u001b[0m\n",
      "\u001b[31;1m\u001b[0m\n",
      "\u001b[31;1m  help       Display more information on a specific command.\u001b[0m\n",
      "\u001b[31;1m\u001b[0m\n",
      "\u001b[31;1m  version    Display version information.\u001b[0m\n",
      "\u001b[31;1m\u001b[0m\n"
     ]
    },
    {
     "ename": "Error",
     "evalue": "Command failed: SubmitCode: dotnet fsdocs --help",
     "output_type": "error",
     "traceback": [
      "Command failed: SubmitCode: dotnet fsdocs --help"
     ]
    }
   ],
   "source": [
    "dotnet fsdocs --help"
   ]
  },
  {
   "cell_type": "code",
   "execution_count": 4,
   "metadata": {
    "dotnet_interactive": {
     "language": "pwsh"
    },
    "polyglot_notebook": {
     "kernelName": "pwsh"
    }
   },
   "outputs": [],
   "source": [
    "mkdir docs"
   ]
  },
  {
   "cell_type": "code",
   "execution_count": 5,
   "metadata": {
    "dotnet_interactive": {
     "language": "pwsh"
    },
    "polyglot_notebook": {
     "kernelName": "pwsh"
    }
   },
   "outputs": [],
   "source": [
    "mkdir src"
   ]
  }
 ],
 "metadata": {
  "kernelspec": {
   "display_name": ".NET (F#)",
   "language": "F#",
   "name": ".net-fsharp"
  },
  "language_info": {
   "name": "polyglot-notebook"
  },
  "polyglot_notebook": {
   "kernelInfo": {
    "defaultKernelName": "fsharp",
    "items": [
     {
      "aliases": [],
      "languageName": "fsharp",
      "name": "fsharp"
     }
    ]
   }
  }
 },
 "nbformat": 4,
 "nbformat_minor": 2
}
